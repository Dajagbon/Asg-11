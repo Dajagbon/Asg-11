{
 "cells": [
  {
   "cell_type": "code",
   "execution_count": 1,
   "id": "8c5bb52b-48d1-49c0-9910-c23b9469b44d",
   "metadata": {},
   "outputs": [],
   "source": [
    "#Create dictionaries to represent a standard deck fo 52 playing cards using the specified schema.\n",
    "clubs = {\"clubs\": {\"ace\"}, \"clubs\": {\"two\"}, \"clubs\": {\"three\"}, \"clubs\": {\"four\"}, \"clubs\": {\"five\"}, \"clubs\": {\"six\"}, \"clubs\": {\"seven\"}, \"clubs\": {\"eight\"}, \"clubs\": {\"nine\"}, \"clubs\": {\"ten\"}, \"clubs\": {\"jack\"}, \"clubs\": {\"queen\"}, \"clubs\": {\"king\"}} \n",
    "diamonds = {\"diamonds\": {\"ace\"}, \"diamonds\": {\"two\"}, \"diamonds\": {\"three\"}, \"diamonds\": {\"four\"}, \"diamonds\": {\"five\"}, \"diamonds\": {\"six\"}, \"diamonds\": {\"seven\"}, \"diamonds\": {\"eight\"}, \"diamonds\": {\"nine\"}, \"diamonds\": {\"ten\"}, \"diamonds\": {\"jack\"}, \"diamonds\": {\"queen\"}, \"diamonds\": {\"king\"}} \n",
    "hearts = {\"hearts\": {\"ace\"}, \"hearts\": {\"two\"}, \"hearts\": {\"three\"}, \"hearts\": {\"four\"}, \"hearts\": {\"five\"}, \"hearts\": {\"six\"}, \"hearts\": {\"seven\"}, \"hearts\": {\"eight\"}, \"hearts\": {\"nine\"}, \"hearts\": {\"ten\"}, \"hearts\": {\"jack\"}, \"hearts\": {\"queen\"}, \"hearts\": {\"king\"}} \n",
    "spades = {\"spades\": {\"ace\"}, \"spades\": {\"two\"}, \"spades\": {\"three\"}, \"spades\": {\"four\"}, \"spades\": {\"five\"}, \"spades\": {\"six\"}, \"spades\": {\"seven\"}, \"spades\": {\"eight\"}, \"spades\": {\"nine\"}, \"spades\": {\"ten\"}, \"spades\": {\"jack\"}, \"spades\": {\"queen\"}, \"spades\": {\"king\"}} \n",
    "ace = {\"ace\": {\"clubs\"}, \"ace\": {\"diamonds\"}, \"ace\": {\"hearts\"}, \"ace\": {\"spades\"}} \n",
    "two = {\"two\": {\"clubs\"}, \"two\": {\"diamonds\"}, \"two\": {\"hearts\"}, \"two\": {\"spades\"}} \n",
    "three = {\"three\": {\"clubs\"}, \"three\": {\"diamonds\"}, \"three\": {\"hearts\"}, \"three\": {\"spades\"}} \n",
    "four = {\"four\": {\"clubs\"}, \"four\": {\"diamonds\"}, \"four\": {\"hearts\"}, \"four\": {\"spades\"}} \n",
    "five = {\"five\": {\"clubs\"}, \"five\": {\"diamonds\"}, \"five\": {\"hearts\"}, \"five\": {\"spades\"}}\n",
    "six = {\"six\": {\"clubs\"}, \"six\": {\"diamonds\"}, \"six\": {\"hearts\"}, \"six\": {\"spades\"}} \n",
    "seven = {\"seven\": {\"clubs\"}, \"seven\": {\"diamonds\"}, \"seven\": {\"hearts\"}, \"seven\": {\"spades\"}} \n",
    "eigt = {\"eight\": {\"clubs\"}, \"eight\": {\"diamonds\"}, \"eight\": {\"hearts\"}, \"eight\": {\"spades\"}} \n",
    "nine = {\"nine\": {\"clubs\"}, \"nine\": {\"diamonds\"}, \"nine\": {\"hearts\"}, \"nine\": {\"spades\"}} \n",
    "ten = {\"ten\": {\"clubs\"}, \"ten\": {\"diamonds\"}, \"ten\": {\"hearts\"}, \"ten\": {\"spades\"}} \n",
    "jack = {\"jack\": {\"clubs\"}, \"jack\": {\"diamonds\"}, \"jack\": {\"hearts\"}, \"jack\": {\"spades\"}} \n",
    "queen = {\"queen\": {\"clubs\"}, \"queen\": {\"diamonds\"}, \"queen\": {\"hearts\"}, \"queen\": {\"spades\"}} \n",
    "king = {\"king\": {\"clubs\"}, \"king\": {\"diamonds\"}, \"king\": {\"hearts\"}, \"king\": {\"spades\"}} "
   ]
  },
  {
   "cell_type": "code",
   "execution_count": 10,
   "id": "177f8f32-fa8e-4677-8859-f13a921dc7a2",
   "metadata": {},
   "outputs": [
    {
     "name": "stdin",
     "output_type": "stream",
     "text": [
      "Enter the RNA sequence:  AGCCCTCCAGGACAGGCTGCATCAGAAGAGGCCATCAAGCAGGTCTGTTCCAAGGGCCTTTGCGTCAGGT\n"
     ]
    },
    {
     "name": "stdout",
     "output_type": "stream",
     "text": [
      "Length of encoded protein: 13\n",
      "Most commonly occurring codon: CAG\n",
      "Encoded protein: SPGQAEEAKQKGR\n"
     ]
    }
   ],
   "source": [
    "#Write a function that takes an RNA molecule as an input and will output the encoded protein. Include 2 optional arguments, the first one for printing the length of the encoded protein, and a second one that will print the most commonly occurring codon (set of 3 nucleotides).\n",
    "def encode_protein(rna_sequence, print_length=False, print_most_common_codon=False):    \n",
    "    codon_table = {\n",
    "        'UUU': 'F', 'UUC': 'F', 'UUA': 'L', 'UUG': 'L',\n",
    "        'CUU': 'L', 'CUC': 'L', 'CUA': 'L', 'CUG': 'L',\n",
    "        'AUU': 'I', 'AUC': 'I', 'AUA': 'I', 'AUG': 'M',\n",
    "        'GUU': 'V', 'GUC': 'V', 'GUA': 'V', 'GUG': 'V',\n",
    "        'UCU': 'S', 'UCC': 'S', 'UCA': 'S', 'UCG': 'S',\n",
    "        'CCU': 'P', 'CCC': 'P', 'CCA': 'P', 'CCG': 'P',\n",
    "        'ACU': 'T', 'ACC': 'T', 'ACA': 'T', 'ACG': 'T',\n",
    "        'GCU': 'A', 'GCC': 'A', 'GCA': 'A', 'GCG': 'A',\n",
    "        'UAU': 'Y', 'UAC': 'Y', 'UAA': '*', 'UAG': '*',\n",
    "        'CAU': 'H', 'CAC': 'H', 'CAA': 'Q', 'CAG': 'Q',\n",
    "        'AAU': 'N', 'AAC': 'N', 'AAA': 'K', 'AAG': 'K',\n",
    "        'GAU': 'D', 'GAC': 'D', 'GAA': 'E', 'GAG': 'E',\n",
    "        'UGU': 'C', 'UGC': 'C', 'UGA': '*', 'UGG': 'W',\n",
    "        'CGU': 'R', 'CGC': 'R', 'CGA': 'R', 'CGG': 'R',\n",
    "        'AGU': 'S', 'AGC': 'S', 'AGA': 'R', 'AGG': 'R',\n",
    "        'GGU': 'G', 'GGC': 'G', 'GGA': 'G', 'GGG': 'G'}\n",
    "    \n",
    "    protein_sequence = ''  \n",
    "    codon_counts = {}       \n",
    "    \n",
    "    rna_sequence = rna_sequence.upper()  # Make input case-insensitive\n",
    "    \n",
    "    for i in range(0, len(rna_sequence), 3):\n",
    "        codon = rna_sequence[i:i+3]  \n",
    "        if len(codon) == 3:         \n",
    "            protein = codon_table.get(codon, '')\n",
    "            protein_sequence += protein\n",
    "            codon_counts[codon] = codon_counts.get(codon, 0) + 1\n",
    "    \n",
    "    if print_length:\n",
    "        print(\"Length of encoded protein:\", len(protein_sequence))\n",
    "    \n",
    "    if print_most_common_codon:\n",
    "        most_common_codon = max(codon_counts, key=codon_counts.get)\n",
    "        print(\"Most commonly occurring codon:\", most_common_codon)\n",
    "    \n",
    "    return protein_sequence \n",
    "\n",
    "rna_sequence = input(\"Enter the RNA sequence: \")\n",
    "protein = encode_protein(rna_sequence, print_length=True, print_most_common_codon=True)\n",
    "print(\"Encoded protein:\", protein)"
   ]
  }
 ],
 "metadata": {
  "kernelspec": {
   "display_name": "Python 3 (ipykernel)",
   "language": "python",
   "name": "python3"
  },
  "language_info": {
   "codemirror_mode": {
    "name": "ipython",
    "version": 3
   },
   "file_extension": ".py",
   "mimetype": "text/x-python",
   "name": "python",
   "nbconvert_exporter": "python",
   "pygments_lexer": "ipython3",
   "version": "3.11.5"
  }
 },
 "nbformat": 4,
 "nbformat_minor": 5
}
